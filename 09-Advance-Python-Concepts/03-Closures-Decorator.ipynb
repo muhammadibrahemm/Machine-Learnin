{
 "cells": [
  {
   "cell_type": "markdown",
   "metadata": {},
   "source": [
    "Decorators"
   ]
  },
  {
   "cell_type": "code",
   "execution_count": 17,
   "metadata": {},
   "outputs": [],
   "source": [
    "def sayGreet(func):\n",
    "    def sayName(arg):\n",
    "        print(\"Good Morning\") \n",
    "        func(arg)\n",
    "    return sayName\n",
    "\n",
    "@sayGreet\n",
    "def sayMuhammad(name):\n",
    "    print(name)\n",
    "\n",
    "\n"
   ]
  },
  {
   "cell_type": "code",
   "execution_count": 18,
   "metadata": {},
   "outputs": [
    {
     "name": "stdout",
     "output_type": "stream",
     "text": [
      "Good Morning\n",
      "Muhammad Ibraheem\n"
     ]
    }
   ],
   "source": [
    "# Now call the function\n",
    "sayMuhammad(\"Muhammad Ibraheem\")"
   ]
  },
  {
   "cell_type": "code",
   "execution_count": 25,
   "metadata": {},
   "outputs": [
    {
     "name": "stdout",
     "output_type": "stream",
     "text": [
      "The addition of x:10 and y:20 is: 30\n"
     ]
    }
   ],
   "source": [
    "def show_results(func):\n",
    "    def print_results(*args, **kwargs):\n",
    "        result = func(*args, **kwargs)\n",
    "        print(result)\n",
    "    return print_results\n",
    "\n",
    "def add(x, y):\n",
    "    return f\"The addition of x:{x} and y:{y} is: {x + y}\"\n",
    "\n",
    "def sub(x,y):\n",
    "    return f\"The substraction of x:{x} and y:{y} is: {x - y}\"\n",
    "\n",
    "@show_results\n",
    "def display_add_results():\n",
    "    return add(10, 20)\n",
    "\n",
    "display_add_results()\n",
    "\n",
    "\n",
    "@show_results\n",
    "def display_sub_results():\n",
    "    return sub(10, 20)\n"
   ]
  },
  {
   "cell_type": "code",
   "execution_count": 26,
   "metadata": {},
   "outputs": [
    {
     "name": "stdout",
     "output_type": "stream",
     "text": [
      "The substraction of x:10 and y:20 is: -10\n"
     ]
    }
   ],
   "source": [
    "display_sub_results()"
   ]
  },
  {
   "cell_type": "code",
   "execution_count": 8,
   "metadata": {},
   "outputs": [
    {
     "name": "stdout",
     "output_type": "stream",
     "text": [
      "--- 5.00066065788269 seconds ---\n"
     ]
    }
   ],
   "source": [
    "import time\n",
    "start_time = time.time()\n",
    "time.sleep(5)\n",
    "\n",
    "print(\"--- %s seconds ---\" % (time.time() - start_time))"
   ]
  },
  {
   "cell_type": "markdown",
   "metadata": {},
   "source": [
    "\n",
    "Write a decorator named `time_it` that measures the execution time of a function. Apply this decorator to a function that calculates the factorial of a number\n"
   ]
  },
  {
   "cell_type": "code",
   "execution_count": 23,
   "metadata": {},
   "outputs": [
    {
     "name": "stdout",
     "output_type": "stream",
     "text": [
      "Total time taken in execution: 0.00001 seconds\n",
      "The result of the factorial is 24\n"
     ]
    }
   ],
   "source": [
    "import time\n",
    "\n",
    "def time_it(func):\n",
    "    def run(*args, **kwargs):\n",
    "        start_time = time.time()\n",
    "        result = func(*args, **kwargs)\n",
    "        print(f\"Total time taken in execution: {time.time() - start_time:.5f} seconds\")\n",
    "        return result\n",
    "    return run\n",
    "\n",
    "@time_it\n",
    "def fact(n):\n",
    "    result = 1\n",
    "    for i in range(2, n + 1):\n",
    "        result *= i\n",
    "    return result\n",
    "\n",
    "res = fact(4)\n",
    "print(f\"The result of the factorial is {res}\")"
   ]
  },
  {
   "cell_type": "markdown",
   "metadata": {},
   "source": [
    "\"Write two decorators: `uppercase` that converts the result of a function to uppercase, and `exclaim` that adds an exclamation mark to the result of a function. Apply both decorators to a function that returns a greeting message.\\n\""
   ]
  },
  {
   "cell_type": "code",
   "execution_count": 30,
   "metadata": {},
   "outputs": [
    {
     "name": "stdout",
     "output_type": "stream",
     "text": [
      "Hello, Ibraheem\n",
      "Hello, Ibraheem\n",
      "Hello, Ibraheem\n",
      "Hello, Ibraheem\n",
      "Hello, Ibraheem\n"
     ]
    }
   ],
   "source": [
    "def repeat(n):\n",
    "    def decorator(fun):\n",
    "        def wrapper(*args, **kwargs):\n",
    "            for i in range(n):\n",
    "                fun(*args, **kwargs)\n",
    "        return wrapper\n",
    "    return decorator\n",
    "\n",
    "@repeat(5)\n",
    "def greet():\n",
    "    print(\"Hello, Ibraheem\")\n",
    "\n",
    "greet()\n"
   ]
  },
  {
   "cell_type": "markdown",
   "metadata": {},
   "source": []
  },
  {
   "cell_type": "markdown",
   "metadata": {},
   "source": []
  },
  {
   "cell_type": "code",
   "execution_count": null,
   "metadata": {},
   "outputs": [],
   "source": []
  }
 ],
 "metadata": {
  "kernelspec": {
   "display_name": "venv",
   "language": "python",
   "name": "python3"
  },
  "language_info": {
   "codemirror_mode": {
    "name": "ipython",
    "version": 3
   },
   "file_extension": ".py",
   "mimetype": "text/x-python",
   "name": "python",
   "nbconvert_exporter": "python",
   "pygments_lexer": "ipython3",
   "version": "3.12.7"
  }
 },
 "nbformat": 4,
 "nbformat_minor": 2
}
