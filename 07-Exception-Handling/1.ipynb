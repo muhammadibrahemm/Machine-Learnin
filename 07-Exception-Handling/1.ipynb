{
 "cells": [
  {
   "cell_type": "code",
   "execution_count": 3,
   "metadata": {},
   "outputs": [
    {
     "name": "stdout",
     "output_type": "stream",
     "text": [
      "{'a': 3, 'b': 7, 'res': 10}\n"
     ]
    }
   ],
   "source": [
    "def fun(a,b):\n",
    "    res = a + b\n",
    "    print(locals())\n",
    "\n",
    "fun(3,7)"
   ]
  },
  {
   "cell_type": "code",
   "execution_count": 7,
   "metadata": {},
   "outputs": [
    {
     "name": "stdout",
     "output_type": "stream",
     "text": [
      "that's not a valid number!\n",
      "execution complete.\n"
     ]
    }
   ],
   "source": [
    "## try,except,else and finally\n",
    "try:\n",
    "    num = int(input(\"enter a number:\"))\n",
    "    result = 17 / num\n",
    "except ValueError:\n",
    "    print(\"that's not a valid number!\")\n",
    "except ZeroDivisionError:\n",
    "    print(\"you cannot divide by zero!\")\n",
    "except Exception as ex:\n",
    "    print(ex)\n",
    "else:\n",
    "    print(f\"the result is {result}.\")\n",
    "finally:\n",
    "    print(\"execution complete.\")"
   ]
  },
  {
   "cell_type": "code",
   "execution_count": 16,
   "metadata": {},
   "outputs": [
    {
     "name": "stdout",
     "output_type": "stream",
     "text": [
      "True\n",
      "I am Muhammad Ibraheem a self motivated to pursue a master leading \n",
      "to phd degree in Jeju University\n",
      "\n",
      "Trust Allah and go a head with your goals\n",
      "Alhamdullilah Allah is everything\n",
      "file  close\n"
     ]
    }
   ],
   "source": [
    "### file handling and exception handling\n",
    "try:\n",
    "    file=open('example.txt','r')\n",
    "    print('file' in locals())\n",
    "    content=file.read()\n",
    "    print(content)\n",
    "\n",
    "except FileNotFoundError:\n",
    "    print(\"the file does not exist\")\n",
    "except Exception as ex:\n",
    "    print(ex)\n",
    "\n",
    "finally:\n",
    "    if 'file' in locals():\n",
    "        if not file.close():\n",
    "            file.close()\n",
    "            print('file  close')"
   ]
  }
 ],
 "metadata": {
  "kernelspec": {
   "display_name": "venv",
   "language": "python",
   "name": "python3"
  },
  "language_info": {
   "codemirror_mode": {
    "name": "ipython",
    "version": 3
   },
   "file_extension": ".py",
   "mimetype": "text/x-python",
   "name": "python",
   "nbconvert_exporter": "python",
   "pygments_lexer": "ipython3",
   "version": "3.12.7"
  }
 },
 "nbformat": 4,
 "nbformat_minor": 2
}
