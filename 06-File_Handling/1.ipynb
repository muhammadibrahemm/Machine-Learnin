{
 "cells": [
  {
   "cell_type": "code",
   "execution_count": 28,
   "metadata": {},
   "outputs": [],
   "source": [
    "def count_text_file(file_path):\n",
    "    with open(file_path, 'r') as file:\n",
    "        lines = file.readlines()\n",
    "        line_count = len(lines)\n",
    "        print('lines:',line_count)\n",
    "        \n",
    "        words = [line.split() for line in lines]\n",
    "        print(words)\n",
    "\n",
    "        word_len = len([line.split() for line in lines])\n",
    "        print(word_len)\n",
    "\n",
    "\n"
   ]
  },
  {
   "cell_type": "code",
   "execution_count": 29,
   "metadata": {},
   "outputs": [
    {
     "name": "stdout",
     "output_type": "stream",
     "text": [
      "lines: 6\n",
      "[['Hy'], ['I', 'am', 'Muhammad', 'Ibraheem'], ['I', 'am', 'stepping', 'into', 'the', 'journey', 'of', 'AI/ML', 'and', 'NLP', 'and', 'MLOPS'], ['I', 'have', 'applied', 'to', 'JEJU', 'National', 'University', 'for', 'Integrated', 'Program'], ['Master', 'Leading', 'to', 'PHD', 'Ins', 'sha', 'Allah'], ['with', \"Allah's\", 'Will', 'I', 'got', 'superb', 'reply', 'from', 'Professor', 'as', 'well']]\n",
      "6\n"
     ]
    }
   ],
   "source": [
    "file_path = 'example.txt'\n",
    "count_text_file(file_path)"
   ]
  },
  {
   "cell_type": "code",
   "execution_count": 35,
   "metadata": {},
   "outputs": [
    {
     "name": "stdout",
     "output_type": "stream",
     "text": [
      "I am Muhammad Ibraheem\n",
      "I am stepping into the journey of AI/ML and NLP and MLOPS\n",
      "I have applied to JEJU National University for Integrated Program \n",
      "Master Leading to PHD Ins sha Allah\n",
      "with Allah's Will I got superb  reply from Professor as well\n",
      "\n"
     ]
    }
   ],
   "source": [
    "with open('love.txt', 'w+') as file:\n",
    "    file.write('I am Muhammad Ibraheem\\n')\n",
    "    file.write('I am stepping into the journey of AI/ML and NLP and MLOPS\\n')\n",
    "    file.write('I have applied to JEJU National University for Integrated Program \\n')\n",
    "    file.write('Master Leading to PHD Ins sha Allah\\n')\n",
    "    file.write(\"with Allah's Will I got superb  reply from Professor as well\\n\")\n",
    "\n",
    "    file.seek(0)\n",
    "    content=file.read()\n",
    "    print(content)"
   ]
  },
  {
   "cell_type": "code",
   "execution_count": 42,
   "metadata": {},
   "outputs": [
    {
     "name": "stdout",
     "output_type": "stream",
     "text": [
      "['nam', 'e   ali', 's']\n"
     ]
    }
   ],
   "source": [
    "str = \"nam!e   ali!s\"\n",
    "print(str.split(sep='!'))"
   ]
  }
 ],
 "metadata": {
  "kernelspec": {
   "display_name": "venv",
   "language": "python",
   "name": "python3"
  },
  "language_info": {
   "codemirror_mode": {
    "name": "ipython",
    "version": 3
   },
   "file_extension": ".py",
   "mimetype": "text/x-python",
   "name": "python",
   "nbconvert_exporter": "python",
   "pygments_lexer": "ipython3",
   "version": "3.12.7"
  }
 },
 "nbformat": 4,
 "nbformat_minor": 2
}
