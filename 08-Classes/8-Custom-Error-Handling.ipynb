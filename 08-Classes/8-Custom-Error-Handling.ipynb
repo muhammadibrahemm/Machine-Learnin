{
 "cells": [
  {
   "cell_type": "markdown",
   "metadata": {},
   "source": [
    "### Custom Error Handling"
   ]
  },
  {
   "cell_type": "code",
   "execution_count": 3,
   "metadata": {},
   "outputs": [
    {
     "name": "stdout",
     "output_type": "stream",
     "text": [
      "Division by zero is not allowed.\n"
     ]
    }
   ],
   "source": [
    "class Error(Exception):\n",
    "    pass\n",
    "\n",
    "class DivisionByZero(Error):\n",
    "    def __str__(self):\n",
    "        return \"Division by zero is not allowed.\"\n",
    "\n",
    "a=10\n",
    "b=0\n",
    "\n",
    "try:\n",
    "    if b==0:\n",
    "        raise DivisionByZero\n",
    "    c=a/b\n",
    "except DivisionByZero as e:\n",
    "    print(e)"
   ]
  }
 ],
 "metadata": {
  "kernelspec": {
   "display_name": "venv",
   "language": "python",
   "name": "python3"
  },
  "language_info": {
   "codemirror_mode": {
    "name": "ipython",
    "version": 3
   },
   "file_extension": ".py",
   "mimetype": "text/x-python",
   "name": "python",
   "nbconvert_exporter": "python",
   "pygments_lexer": "ipython3",
   "version": "3.12.7"
  }
 },
 "nbformat": 4,
 "nbformat_minor": 2
}
