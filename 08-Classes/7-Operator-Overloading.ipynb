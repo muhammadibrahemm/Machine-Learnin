{
 "cells": [
  {
   "cell_type": "markdown",
   "metadata": {},
   "source": [
    "### Operator Overloading\n"
   ]
  },
  {
   "cell_type": "code",
   "execution_count": 19,
   "metadata": {},
   "outputs": [
    {
     "name": "stdout",
     "output_type": "stream",
     "text": [
      "The value of x:6 and y:10\n",
      "The value of x:-2 and y:-4\n",
      "The value of x:8 and y:21\n",
      "False\n"
     ]
    }
   ],
   "source": [
    "class Vector:\n",
    "    def __init__(self,x,y):\n",
    "        self.x=x\n",
    "        self.y=y\n",
    "\n",
    "    def __add__(self,other):\n",
    "        num1=self.x + other.x\n",
    "        num2=self.y + other.y\n",
    "        return Vector(num1,num2)\n",
    "    \n",
    "    def __sub__(self,other):\n",
    "        num1=self.x - other.x\n",
    "        num2=self.y - other.y\n",
    "        return Vector(num1,num2)\n",
    "    \n",
    "    def __mul__(self, other):\n",
    "        num1=self.x * other.x\n",
    "        num2=self.y * other.y\n",
    "        return Vector(num1,num2)\n",
    "    \n",
    "    def __str__(self):\n",
    "        return f\"The value of x:{self.x} and y:{self.y}\"\n",
    "    \n",
    "    def __eq__(self,other):\n",
    "        return self.x == other.x and self.y == other.y\n",
    "    \n",
    "    \n",
    "v1=Vector(2,3)\n",
    "v2=Vector(4,7)\n",
    "print(v1+v2)\n",
    "print(v1-v2)\n",
    "print(v1*v2)\n",
    "print(v1==v2)"
   ]
  },
  {
   "cell_type": "code",
   "execution_count": 24,
   "metadata": {},
   "outputs": [
    {
     "name": "stdout",
     "output_type": "stream",
     "text": [
      "The Complex numbers are :6, 10\n",
      "The Complex numbers are :-2, -4\n",
      "The Complex numbers are :-13, 21\n"
     ]
    }
   ],
   "source": [
    "### Overloading Operators for complex numbers\n",
    "class ComplexNumber:\n",
    "    def __init__(self, real, imag):\n",
    "        self.real = real\n",
    "        self.imag = imag\n",
    "\n",
    "    def __add__(self,other):\n",
    "        num1 = self.real + other.real\n",
    "        num2 = self.imag + other.imag\n",
    "        return ComplexNumber(num1,num2)\n",
    "    \n",
    "    def __sub__(self, other):\n",
    "        num1 = self.real - other.real\n",
    "        num2 = self.imag - other.imag\n",
    "        return ComplexNumber(num1,num2)\n",
    "    \n",
    "    def __mul__(self,other):\n",
    "        real_part = self.real * other.real - self.imag * other.imag\n",
    "        imag_part = self.real * other.imag + self.imag + other.real\n",
    "        return ComplexNumber(real_part, imag_part)\n",
    "    \n",
    "    def __str__(self):\n",
    "        return f\"The Complex numbers are :{self.real}, {self.imag}\"\n",
    "    \n",
    "c1=ComplexNumber(2,3)\n",
    "c2=ComplexNumber(4,7)\n",
    "print(c1+c2)\n",
    "print(c1-c2)\n",
    "print(c1*c2)"
   ]
  }
 ],
 "metadata": {
  "kernelspec": {
   "display_name": "venv",
   "language": "python",
   "name": "python3"
  },
  "language_info": {
   "codemirror_mode": {
    "name": "ipython",
    "version": 3
   },
   "file_extension": ".py",
   "mimetype": "text/x-python",
   "name": "python",
   "nbconvert_exporter": "python",
   "pygments_lexer": "ipython3",
   "version": "3.12.7"
  }
 },
 "nbformat": 4,
 "nbformat_minor": 2
}
