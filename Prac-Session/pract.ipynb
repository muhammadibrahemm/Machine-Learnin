{
 "cells": [
  {
   "cell_type": "code",
   "execution_count": 2,
   "metadata": {},
   "outputs": [
    {
     "name": "stdout",
     "output_type": "stream",
     "text": [
      "0 20\n",
      "1 30\n",
      "2 40\n",
      "3 50\n"
     ]
    }
   ],
   "source": [
    "list = [20,30,40,50]\n",
    "for idx,ele in enumerate(list):\n",
    "    print(idx, ele)"
   ]
  },
  {
   "cell_type": "code",
   "execution_count": 17,
   "metadata": {},
   "outputs": [
    {
     "name": "stdout",
     "output_type": "stream",
     "text": [
      "{1, 2, 3, 4, 5}\n"
     ]
    }
   ],
   "source": [
    "set1 = {1,2,3,4,5}\n",
    "set2 = {4,5,6,7,8}\n",
    "\n",
    "# intersection update\n",
    "set1.intersection(set2)\n",
    "print(set1)"
   ]
  },
  {
   "cell_type": "code",
   "execution_count": 17,
   "metadata": {},
   "outputs": [
    {
     "name": "stdout",
     "output_type": "stream",
     "text": [
      "[1, 2, 3, 4]\n",
      "[1, 2, 3, 4, 10]\n"
     ]
    }
   ],
   "source": [
    "li1 = [1,2,3,4]\n",
    "li2 = li1\n",
    "print(li1)\n",
    "li2.append(10)\n",
    "print(li1)"
   ]
  },
  {
   "cell_type": "code",
   "execution_count": 19,
   "metadata": {},
   "outputs": [
    {
     "name": "stdout",
     "output_type": "stream",
     "text": [
      "id : 8567\n",
      "full_name : Muhammad Ibraheem\n"
     ]
    }
   ],
   "source": [
    "dict1 = {'id':8567, 'full_name':'Muhammad Ibraheem'}\n",
    "for a,b in dict1.items():\n",
    "    print(f'{a} : {b}')"
   ]
  },
  {
   "cell_type": "code",
   "execution_count": 10,
   "metadata": {},
   "outputs": [],
   "source": [
    "def print_numbers(*krish):\n",
    "    print(type(krish))\n",
    "    print(krish)\n",
    "    for x in krish:\n",
    "        print(x)"
   ]
  },
  {
   "cell_type": "code",
   "execution_count": 11,
   "metadata": {},
   "outputs": [
    {
     "name": "stdout",
     "output_type": "stream",
     "text": [
      "<class 'tuple'>\n",
      "(1, 2, 3, 'Hello World')\n",
      "1\n",
      "2\n",
      "3\n",
      "Hello World\n"
     ]
    }
   ],
   "source": [
    "print_numbers(1,2,3,\"Hello World\")"
   ]
  },
  {
   "cell_type": "code",
   "execution_count": 13,
   "metadata": {},
   "outputs": [
    {
     "name": "stdout",
     "output_type": "stream",
     "text": [
      "True\n"
     ]
    }
   ],
   "source": [
    "password=\"ibraheem\"\n",
    "print(not any(char.isdigit() for char in password))"
   ]
  },
  {
   "cell_type": "code",
   "execution_count": 49,
   "metadata": {},
   "outputs": [],
   "source": [
    "def count_word_frequency(file_path):\n",
    "    word_count={}\n",
    "    with open(file_path, 'r') as file:\n",
    "        print('file',file)\n",
    "        for line in file:\n",
    "            words = line.split()\n",
    "            for word in words:\n",
    "                word=word.lower()\n",
    "                word=word.strip('.,!?;:\"\\'')\n",
    "                word_count[word] = word_count.get(word,0)+1\n",
    "\n",
    "\n",
    "    print(word_count)\n",
    "        "
   ]
  },
  {
   "cell_type": "code",
   "execution_count": null,
   "metadata": {},
   "outputs": [],
   "source": []
  },
  {
   "cell_type": "code",
   "execution_count": 50,
   "metadata": {},
   "outputs": [
    {
     "name": "stdout",
     "output_type": "stream",
     "text": [
      "file <_io.TextIOWrapper name='sample.txt' mode='r' encoding='UTF-8'>\n",
      "{'i': 1, 'am': 1, 'muhammad': 1, 'ibraheem': 1, 'a': 3, 'self': 1, 'motivated': 1, 'to': 2, 'pursue': 1, 'master': 1, 'leading': 1, 'phd': 1, 'degree': 1, 'in': 1, 'jeju': 1, 'university': 1, 'trust': 1, 'allah': 2, 'and': 1, 'go': 1, 'head': 1, 'with': 1, 'your': 1, 'goals': 1, 'alhamdullilah': 1, 'is': 1, 'everything': 1}\n"
     ]
    }
   ],
   "source": [
    "count_word_frequency('sample.txt')"
   ]
  }
 ],
 "metadata": {
  "kernelspec": {
   "display_name": "venv",
   "language": "python",
   "name": "python3"
  },
  "language_info": {
   "codemirror_mode": {
    "name": "ipython",
    "version": 3
   },
   "file_extension": ".py",
   "mimetype": "text/x-python",
   "name": "python",
   "nbconvert_exporter": "python",
   "pygments_lexer": "ipython3",
   "version": "3.12.7"
  }
 },
 "nbformat": 4,
 "nbformat_minor": 2
}
